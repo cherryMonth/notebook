{
 "cells": [
  {
   "cell_type": "code",
   "execution_count": 10,
   "metadata": {},
   "outputs": [
    {
     "name": "stdout",
     "output_type": "stream",
     "text": [
      "[[ 2.          2.          2.         ...,  2.          2.          2.        ]\n",
      " [ 1.99982722  1.99982722  1.99982722 ...,  1.99982722  1.99982722\n",
      "   1.99982722]\n",
      " [ 1.9993089   1.9993089   1.9993089  ...,  1.9993089   1.9993089\n",
      "   1.9993089 ]\n",
      " ..., \n",
      " [-1.9993089  -1.9993089  -1.9993089  ..., -1.9993089  -1.9993089\n",
      "  -1.9993089 ]\n",
      " [-1.99982722 -1.99982722 -1.99982722 ..., -1.99982722 -1.99982722\n",
      "  -1.99982722]\n",
      " [-2.         -2.         -2.         ..., -2.         -2.         -2.        ]]\n"
     ]
    },
    {
     "data": {
      "text/html": [
       "<iframe id=\"igraph\" scrolling=\"no\" style=\"border:none;\" seamless=\"seamless\" src=\"https://plot.ly/~cherrymonthes/38.embed\" height=\"525px\" width=\"100%\"></iframe>"
      ],
      "text/plain": [
       "<plotly.tools.PlotlyDisplay object>"
      ]
     },
     "execution_count": 10,
     "metadata": {},
     "output_type": "execute_result"
    }
   ],
   "source": [
    "import plotly.plotly as py\n",
    "import plotly.graph_objs as go\n",
    "\n",
    "import numpy as np\n",
    "\n",
    "f = np.linspace(0, 2 * np.pi, 240)  #  返回一个数组\n",
    "s = np.linspace(0, np.pi, 240)  # 返回一个数组\n",
    "fGrid, sGrid = np.meshgrid(f, s)  # 返回一个矩阵\n",
    "\n",
    "r = 2  # r = 2 + sin(7s+5t)\n",
    "x = r * np.cos(fGrid) * np.sin(sGrid)  # x = r*cos(s)*sin(t)\n",
    "y = r * np.sin(fGrid) * np.sin(sGrid)  # y = r*sin(s)*sin(t)\n",
    "z = r * np.cos(sGrid)                  # z = r*cos(t)\n",
    "surfacecolor = x\n",
    "print z\n",
    "surface = go.Surface(x=x, y=y, z=z, surfacecolor=x)\n",
    "data = [surface]\n",
    "\n",
    "layout = go.Layout(\n",
    "    title='Parametric Plot',\n",
    "    scene=dict(\n",
    "        xaxis=dict(\n",
    "            gridcolor='rgb(255, 255, 255)',\n",
    "            zerolinecolor='rgb(255, 255, 255)',\n",
    "            showbackground=True,\n",
    "            backgroundcolor='rgb(230, 230,230)'\n",
    "        ),\n",
    "        yaxis=dict(\n",
    "            gridcolor='rgb(255, 255, 255)',\n",
    "            zerolinecolor='rgb(255, 255, 255)',\n",
    "            showbackground=True,\n",
    "            backgroundcolor='rgb(230, 230,230)'\n",
    "        ),\n",
    "        zaxis=dict(\n",
    "            gridcolor='rgb(255, 255, 255)',\n",
    "            zerolinecolor='rgb(255, 255, 255)',\n",
    "            showbackground=True,\n",
    "            backgroundcolor='rgb(230, 230,230)'\n",
    "        )\n",
    "    )\n",
    ")\n",
    "\n",
    "fig = go.Figure(data=data, layout=layout)\n",
    "py.iplot(fig, filename='Parametric_plot')"
   ]
  },
  {
   "cell_type": "code",
   "execution_count": null,
   "metadata": {
    "collapsed": true
   },
   "outputs": [],
   "source": []
  },
  {
   "cell_type": "code",
   "execution_count": null,
   "metadata": {
    "collapsed": true
   },
   "outputs": [],
   "source": []
  }
 ],
 "metadata": {
  "kernelspec": {
   "display_name": "Python 2",
   "language": "python",
   "name": "python2"
  },
  "language_info": {
   "codemirror_mode": {
    "name": "ipython",
    "version": 2
   },
   "file_extension": ".py",
   "mimetype": "text/x-python",
   "name": "python",
   "nbconvert_exporter": "python",
   "pygments_lexer": "ipython2",
   "version": "2.7.14"
  }
 },
 "nbformat": 4,
 "nbformat_minor": 2
}
